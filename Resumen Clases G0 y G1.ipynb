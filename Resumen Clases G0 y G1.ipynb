{
 "cells": [
  {
   "cell_type": "markdown",
   "id": "2d8237c5-10f1-40d4-818d-202356a2f6c3",
   "metadata": {},
   "source": [
    "# MAT2121 - Matemática Aplicada con Python\n",
    "### Docente: Nicolás Duarte Guerra"
   ]
  },
  {
   "cell_type": "markdown",
   "id": "17713a1e-b64c-415c-a2da-ac0378eb16fe",
   "metadata": {},
   "source": [
    "## Unidad 0: Introducción a Python"
   ]
  },
  {
   "cell_type": "markdown",
   "id": "2aa78b46-cc3f-4629-9485-61c1c828b7ea",
   "metadata": {},
   "source": [
    " #### 0.1. Tipos de Datos (más básicos)"
   ]
  },
  {
   "cell_type": "code",
   "execution_count": 1,
   "id": "f4c63e88-a8d6-4e65-85d4-e69e5b5289d1",
   "metadata": {},
   "outputs": [
    {
     "name": "stdout",
     "output_type": "stream",
     "text": [
      "⊷ El entero de 1.4056 es: 1\n",
      "⊷ El flotante de 1.4056 es: 1.4056\n",
      "⊷ El string de 1.4056 es: 1.4056\n",
      "⊷ La lista d es: [1, 2.14, 'Hola', ['l', 'i', 's', 't', 'a']]\n"
     ]
    }
   ],
   "source": [
    "dato = 1.40560\n",
    "# Integer o Enteros (int): números enteros positivos o negativos, sin ningún decimal\n",
    "a = int(dato)\n",
    "print(f\"⊷ El entero de {dato} es: {a}\")\n",
    "\n",
    "# Float o Flotantes (float): números de punto flotante, \n",
    "b = float(1.40560)\n",
    "print(f\"⊷ El flotante de {dato} es: {b}\")\n",
    "\n",
    "# Strings o Cadenas de caracteres (str): son secuencias de caracteres encerrados en comillas simples '.\n",
    "c = str(dato)\n",
    "print(f\"⊷ El string de {dato} es: {c}\")\n",
    "\n",
    "# Bool o booleano (bool): True o False\n",
    "\n",
    "\n",
    "# Listas (list): Arreglo indexado desde 0 o colecciones ordenadas de elementos. Pueden ser de diferente tipo de dato.\n",
    "#                Definidos entre corchetes [ a , b , c ].\n",
    "d = [1, 2.14, \"Hola\", [\"l\",\"i\",\"s\",\"t\",\"a\"]]\n",
    "print(f\"⊷ La lista d es: {d}\")"
   ]
  },
  {
   "cell_type": "markdown",
   "id": "5f9d9542-d4d2-44ae-9743-305ca5bcf8a0",
   "metadata": {},
   "source": [
    "#### a) Operadores numéricos\n",
    "```python\n",
    "+    suma\n",
    "-    resta\n",
    "*    multiplicación\n",
    "/    división\n",
    "//   parte entera o cuociente o \"divmod(x,y)  par (x // y , x % y)\" \n",
    "%    resto\n",
    "**   potencia o \"pow(x)\"\n",
    "+=, -=, *=, /=   aplica operador de tipo a = a +-*/ algo\n",
    "```"
   ]
  },
  {
   "cell_type": "markdown",
   "id": "d9982089-6970-429a-b957-99a5b5b8eafa",
   "metadata": {},
   "source": [
    "#### b) Operadores Condicionales\n",
    "```python\n",
    "==   igual\n",
    "!=   distinto\n",
    "<=   menor o igual\n",
    ">=   mayor o igual\n",
    "and  intersección condiciones\n",
    "or   unión condiciones\n",
    "not  negación \n",
    "```"
   ]
  },
  {
   "cell_type": "markdown",
   "id": "f1a1a8a4-8373-4c81-9cdd-468619620600",
   "metadata": {},
   "source": [
    "#### c) Otros comandos relevantes\n",
    "\n",
    "```python\n",
    "input()       Útil para solicitar información en pantalla al usuario\n",
    "isinstance()  Útil para verificar si un dato es un string, número, etc.\n",
    "isnumeric()   Útil para verificar si un dato es numérico (int, float, complex)\n",
    "isdigit()     Útil para verificar si un dato es entero (no float)\n",
    "in range(a,b) Útil para verificar si un dato se encuentra dentro de un rango de [a,b-1]\n",
    "try-except    Útil para evadir errores\n",
    "break         Útil para forzar la detención de un loop o salir de un while o for\n",
    "continue      Útil para saltar (skip) iteración actual de un ciclo while o for\n",
    "pass          Útil para seguir cuando se cumple una condición de un if-elif-else y se desea dejar vacío de código\n",
    "```"
   ]
  },
  {
   "cell_type": "markdown",
   "id": "3e7fea32-6f9c-4079-a7ff-c7d3f6978d16",
   "metadata": {},
   "source": [
    "#### d) Manipulación de elementos (listas o strings)\n",
    "Sirve para recorrer los elementos de una lista o string:\n",
    "```python\n",
    "lista = list(\"Python\")\n",
    "lista[0]      1er elemento\n",
    "lista[-1]     Último elemento\n",
    "lista[1:3]    2do y 3er elementos\n",
    "lista[1:-1:2] Recorre del 2do al último elemento, con saltos de 2 en 2\n",
    "lista[:4]     Primeros 4 elementos\n",
    "lista[-4:]    Últimos 4 elementos\n",
    "```\n",
    "Los elementos de una lista o string están indexados de la siguiente manera:\n",
    "<center>\n",
    "<img src=\"https://bas.codes/static/fde3dfc88f51d290c09a8001bb542a51/e46b2/python-slices.webp\" width=500>\n",
    "</center>"
   ]
  },
  {
   "cell_type": "markdown",
   "id": "9bcbb2fc-bc6f-45e9-841d-9b46c0f67aa7",
   "metadata": {},
   "source": [
    "#### 0.2. Ciclos o Bucles\n",
    "**Ciclo While**: Ejecuta código mientras se mantenga verdadera la condición\n",
    "```python\n",
    "while condicion == True:\n",
    "    código iterativo \n",
    "    contador o condicional que modifique la condición a False\n",
    "```\n",
    "**Ciclo For**: Ciclo que itera en cualquier valor iterable (secuencia, lista, string, tupla, elementos diccionario, etc) \n",
    "```python\n",
    "for iterador in dato iterable:\n",
    "    código iterable\n",
    "```\n"
   ]
  },
  {
   "cell_type": "markdown",
   "id": "632fedf9-42af-4e2d-9ada-b50b6c456b90",
   "metadata": {},
   "source": [
    "#### 0.3. Condicionales\n",
    " \n",
    "**IF-ELIF-ELSE**: Estructura de control para toma de decisiones evaluando expresiones lógicas. \n",
    "                  Condiciona con un \"si ocurre esto (IF), entonces haz esto (ELIF) o sino esto (ELSE)\"\n",
    "```python\n",
    "if condicion1:\n",
    "    haz esto\n",
    "elif condicion2:\n",
    "    has esto otro\n",
    "else:\n",
    "    sino esto\n",
    "```"
   ]
  },
  {
   "cell_type": "markdown",
   "id": "4ca403d9-c6ab-4f42-a3a0-4d5ebd911574",
   "metadata": {},
   "source": [
    "## Unidad 1: Funciones"
   ]
  },
  {
   "cell_type": "markdown",
   "id": "f07332f2-91ae-4fbe-9c34-011d314a1d6a",
   "metadata": {},
   "source": [
    "#### 1.1. Funciones\n",
    "Bloque de código reutilizable, es ideal para cuando se repite muchas veces un mismo código.\n",
    "```python\n",
    "def nombre_funcion(param1, param2, ...):\n",
    "    cuerpo función con operaciones\n",
    "    variables locales sólo para la función\n",
    "    return resultado\n",
    "\n",
    "a = nombre_funcion(1,2,3)\n",
    "print(f\"Valor retornado para los parámetros 1, 2 y 3, {a}\")\n",
    "```"
   ]
  },
  {
   "cell_type": "markdown",
   "id": "3b7043a2-b6fc-4c2d-8d05-9e3a7f0d3860",
   "metadata": {},
   "source": [
    "#### 1.2. Librerías\n",
    "```python\n",
    "import numpy as np\n",
    "import matplotlib.pyplot as plt\n",
    "from scipy.optimize import fsolve\n",
    "```"
   ]
  },
  {
   "cell_type": "markdown",
   "id": "68f5bbbf-127f-4610-9185-4c09401cd599",
   "metadata": {},
   "source": [
    "#### 1.3. $Numpy$\n",
    "\n",
    "data = [[1, 2], [3, 4], [5, 6]]\n",
    "\n",
    "$np.array(data)$     \n",
    "Arreglo que se crea convirtiendo data iterable en un arreglo Numpy (matriz)\n",
    "\n",
    "$np.arange(inicio, término, pasos o saltos de número en el rango)$        \n",
    "Arreglo necesario para graficar con matplotlib. Secuencia numérica que define los posibles valores de la variable x en el gráfico. \n",
    "\n",
    "$np.linspace(inicio, término, cantidad de valores en el rango)$\n",
    "Necesario para buscar soluciones de fsolve. Crea arreglo con un rango de valores en gran o baja cantidad de datos\n",
    "\n",
    "np.polyfit\n",
    "\n"
   ]
  },
  {
   "cell_type": "markdown",
   "id": "8c559da7-6432-4842-9e57-d40bf7bb200a",
   "metadata": {},
   "source": [
    "#### 1.3. $plt.plot(x,f(x))$ para graficar funciones de todo tipo"
   ]
  },
  {
   "cell_type": "code",
   "execution_count": null,
   "id": "c2b0b249-b260-4cac-b8f1-7b65524f46e4",
   "metadata": {},
   "outputs": [],
   "source": [
    "def f(x):\n",
    "    return # función a graficar\n",
    "\n",
    "x = np.arange(valor inicial, valor final, paso)\n",
    "plt.plot(x, f(x), label = 'f(x)')\n",
    "plt.title('Nombre del gráfico')\n",
    "plt.ylabel('Nombre eje y')\n",
    "plt.xlabel('Nombre eje x')\n",
    "plt.legend()\n",
    "plt.show()"
   ]
  },
  {
   "cell_type": "markdown",
   "id": "53e8ee75-2811-4386-af56-2fcfae133ebb",
   "metadata": {},
   "source": [
    "#### 1.4. $fsolve(función, valor-inicial)$ para encontrar puntos solución de una función"
   ]
  },
  {
   "cell_type": "code",
   "execution_count": null,
   "id": "e5403248-2725-4866-8eba-583f0e61ac55",
   "metadata": {},
   "outputs": [],
   "source": [
    "def f(x):\n",
    "    return #'función igualada a cero'\n",
    "\n",
    "#Valor/es inicial/es de la aproximación\n",
    "xo = np.linspace(valor inicial, valor final, cantidad de valores del arreglo)\n",
    "solucion = fsolve(f, xo)"
   ]
  },
  {
   "cell_type": "markdown",
   "id": "52e48463-e6d6-4e89-9679-4867b49caf2e",
   "metadata": {},
   "source": [
    "#### 1.5. $np.polyfit(x,f(x),grado)$ para encontrar parámetros de funciones de distinto grado \n",
    "<center>\n",
    "<b>Función Lineal (grado 1)\n",
    "$$f(x) = m x + n$$\n",
    "<br>\n",
    "Función Cuadrática (grado 2)\n",
    "$$f(x) = A x^2+Bx+C$$\n"
   ]
  },
  {
   "cell_type": "code",
   "execution_count": null,
   "id": "4a711efd-e7b3-43fd-8c82-af1f065610cb",
   "metadata": {},
   "outputs": [],
   "source": [
    "x = np.array([valor 1, valor 2, valor 3, …, valor n])\n",
    "y = np.array([valor 1, valor 2, valor 3, …, valor n])\n",
    "\n",
    "#Si la función es LINEAL (grado 1)\n",
    "m, n = np.polyfit(x, y, 1)\n",
    "\n",
    "#Si la función es CUADRÁTICA (grado 2)\n",
    "A, B, C = np.polyfit(x, y, 2)"
   ]
  },
  {
   "cell_type": "code",
   "execution_count": null,
   "id": "151c09f6-6be9-466e-bb56-5194b63dd36e",
   "metadata": {},
   "outputs": [],
   "source": []
  },
  {
   "cell_type": "code",
   "execution_count": null,
   "id": "d3e6ebad-6ac2-487b-b892-614689f7396b",
   "metadata": {},
   "outputs": [],
   "source": []
  },
  {
   "cell_type": "code",
   "execution_count": null,
   "id": "2676260a-0dd3-4829-b193-d775de3f062d",
   "metadata": {},
   "outputs": [],
   "source": []
  }
 ],
 "metadata": {
  "kernelspec": {
   "display_name": "Python 3",
   "language": "python",
   "name": "python3"
  },
  "language_info": {
   "codemirror_mode": {
    "name": "ipython",
    "version": 3
   },
   "file_extension": ".py",
   "mimetype": "text/x-python",
   "name": "python",
   "nbconvert_exporter": "python",
   "pygments_lexer": "ipython3",
   "version": "3.13.5"
  }
 },
 "nbformat": 4,
 "nbformat_minor": 5
}
