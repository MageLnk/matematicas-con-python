{
  "cells": [
    {
      "cell_type": "markdown",
      "metadata": {
        "id": "t48ZzDLtux0T"
      },
      "source": [
        "# Problema 1"
      ]
    },
    {
      "cell_type": "markdown",
      "metadata": {
        "id": "cWCfLm-fvNTx"
      },
      "source": [
        "Escribe un código que pida al usuario ingresar un número real y determine si el número ingresado es positivo, negativo o cero."
      ]
    },
    {
      "cell_type": "code",
      "execution_count": 1,
      "metadata": {},
      "outputs": [
        {
          "name": "stdout",
          "output_type": "stream",
          "text": [
            "El número ingresado es 2 y es mayor a 0\n"
          ]
        }
      ],
      "source": [
        "valor = int(input(\"Ingrese un número real\"))\n",
        "\n",
        "if(valor > 0):\n",
        "    print(f\"El número ingresado es {valor} y es mayor a 0\")\n",
        "\n",
        "if(valor == 0):\n",
        "    print(f\"El numero ingresado es {valor} y es 0\")\n",
        "\n",
        "if(valor < 0):\n",
        "    print(f\"El número ingresado es {valor}\")"
      ]
    },
    {
      "cell_type": "markdown",
      "metadata": {
        "id": "6civkm_Pwf1B"
      },
      "source": [
        "# Problema 2"
      ]
    },
    {
      "cell_type": "markdown",
      "metadata": {
        "id": "rjeAxtJ4x9h6"
      },
      "source": [
        "Escribe un código que pida al usuario ingresar un número entero y que determine si el número ingresado es par o impar.\n"
      ]
    },
    {
      "cell_type": "code",
      "execution_count": 5,
      "metadata": {},
      "outputs": [
        {
          "name": "stdout",
          "output_type": "stream",
          "text": [
            "El valor ingresado no es un número entero válido\n"
          ]
        }
      ],
      "source": [
        "numero = input(\"Ingrese un número entero: \")\n",
        "\n",
        "if (numero.isdigit()):\n",
        "    numeroEntero = int(numero)\n",
        "\n",
        "    if(numeroEntero % 2 == 0):\n",
        "        print(f\"El número {numeroEntero}, que fue e ingresado, es par\")\n",
        "    else:\n",
        "        print(f\"El número {numeroEntero}, que fue el ingresado, es impar\")  \n",
        "else:\n",
        "    print(\"El valor ingresado no es un número entero válido\")"
      ]
    },
    {
      "cell_type": "markdown",
      "metadata": {
        "id": "rLA34mTgxuSf"
      },
      "source": [
        "# Problema 3"
      ]
    },
    {
      "cell_type": "markdown",
      "metadata": {
        "id": "6E3zFuZSwigv"
      },
      "source": [
        "Escribe un código que, mediante un ciclo *while*, sume los primeros $100$ números naturales."
      ]
    },
    {
      "cell_type": "code",
      "execution_count": null,
      "metadata": {},
      "outputs": [
        {
          "name": "stdout",
          "output_type": "stream",
          "text": [
            "1\n",
            "3\n",
            "6\n",
            "10\n",
            "15\n",
            "21\n",
            "28\n",
            "36\n",
            "45\n",
            "55\n",
            "66\n",
            "78\n",
            "91\n",
            "105\n",
            "120\n",
            "136\n",
            "153\n",
            "171\n",
            "190\n",
            "210\n",
            "231\n",
            "253\n",
            "276\n",
            "300\n",
            "325\n",
            "351\n",
            "378\n",
            "406\n",
            "435\n",
            "465\n",
            "496\n",
            "528\n",
            "561\n",
            "595\n",
            "630\n",
            "666\n",
            "703\n",
            "741\n",
            "780\n",
            "820\n",
            "861\n",
            "903\n",
            "946\n",
            "990\n",
            "1035\n",
            "1081\n",
            "1128\n",
            "1176\n",
            "1225\n",
            "1275\n",
            "1326\n",
            "1378\n",
            "1431\n",
            "1485\n",
            "1540\n",
            "1596\n",
            "1653\n",
            "1711\n",
            "1770\n",
            "1830\n",
            "1891\n",
            "1953\n",
            "2016\n",
            "2080\n",
            "2145\n",
            "2211\n",
            "2278\n",
            "2346\n",
            "2415\n",
            "2485\n",
            "2556\n",
            "2628\n",
            "2701\n",
            "2775\n",
            "2850\n",
            "2926\n",
            "3003\n",
            "3081\n",
            "3160\n",
            "3240\n",
            "3321\n",
            "3403\n",
            "3486\n",
            "3570\n",
            "3655\n",
            "3741\n",
            "3828\n",
            "3916\n",
            "4005\n",
            "4095\n",
            "4186\n",
            "4278\n",
            "4371\n",
            "4465\n",
            "4560\n",
            "4656\n",
            "4753\n",
            "4851\n",
            "4950\n",
            "5050\n",
            "El ciclo ha terminado, la suma del total de ciclos 100 final es de:  5050\n"
          ]
        }
      ],
      "source": [
        "suma = 0\n",
        "isCicle = True\n",
        "contadorCiclos = 1\n",
        "\n",
        "while(isCicle):\n",
        "    suma += contadorCiclos               # suma = suma + 1 es equivalente a suma += 1\n",
        "    print(suma)\n",
        "\n",
        "    if(contadorCiclos == 100):\n",
        "       isCicle = False\n",
        "    else:\n",
        "        contadorCiclos += 1\n",
        "\n",
        "print(f\"El ciclo ha terminado, la suma del total de ciclos {contadorCiclos} final es de: \", suma)"
      ]
    },
    {
      "cell_type": "markdown",
      "metadata": {
        "id": "pZpuARSKz4zw"
      },
      "source": [
        "# Problema 4"
      ]
    },
    {
      "cell_type": "markdown",
      "metadata": {
        "id": "SxGOLjlnz6y_"
      },
      "source": [
        "Escribe un código que almacene en una variable el *string* \"Contraseña\". Luego, el programa debe solicitar al usuario \"Introducir contraseña\", hasta que la palabra ingresada sea correcta. <sup><a href=\"#footnote1\" id=\"ref1\">1</a></sup>\n",
        "\n",
        "\n",
        "<p id=\"footnote1\"><sup>1</sup> String: Tipo de dato que almacena texto."
      ]
    },
    {
      "cell_type": "code",
      "execution_count": null,
      "metadata": {},
      "outputs": [
        {
          "name": "stdout",
          "output_type": "stream",
          "text": [
            "Contraseña incorrecta, intente nuevamente\n",
            "Contraseña incorrecta, intente nuevamente\n",
            "Contraseña incorrecta, intente nuevamente\n",
            "Contraseña incorrecta, intente nuevamente\n",
            "Contraseña incorrecta, intente nuevamente\n",
            "Contraseña incorrecta, intente nuevamente\n",
            "Contraseña incorrecta, intente nuevamente\n",
            "Contraseña incorrecta, intente nuevamente\n",
            "Contraseña incorrecta, intente nuevamente\n",
            "Contraseña incorrecta, intente nuevamente\n",
            "Contraseña incorrecta, intente nuevamente\n",
            "Contraseña incorrecta, intente nuevamente\n",
            "Contraseña incorrecta, intente nuevamente\n",
            "Contraseña incorrecta, intente nuevamente\n",
            "Contraseña incorrecta, intente nuevamente\n",
            "Contraseña incorrecta, intente nuevamente\n",
            "Contraseña incorrecta, intente nuevamente\n",
            "Contraseña incorrecta, intente nuevamente\n",
            "Contraseña incorrecta, intente nuevamente\n",
            "Contraseña incorrecta, intente nuevamente\n",
            "Contraseña incorrecta, intente nuevamente\n",
            "Contraseña incorrecta, intente nuevamente\n",
            "Contraseña incorrecta, intente nuevamente\n",
            "Contraseña incorrecta, intente nuevamente\n",
            "Contraseña incorrecta, intente nuevamente\n",
            "Contraseña incorrecta, intente nuevamente\n",
            "Contraseña incorrecta, intente nuevamente\n",
            "Contraseña incorrecta, intente nuevamente\n",
            "Contraseña incorrecta, intente nuevamente\n",
            "Contraseña incorrecta, intente nuevamente\n",
            "Contraseña incorrecta, intente nuevamente\n",
            "Contraseña incorrecta, intente nuevamente\n",
            "Contraseña incorrecta, intente nuevamente\n",
            "Contraseña incorrecta, intente nuevamente\n",
            "Contraseña incorrecta, intente nuevamente\n",
            "Contraseña incorrecta, intente nuevamente\n",
            "Contraseña incorrecta, intente nuevamente\n",
            "Contraseña incorrecta, intente nuevamente\n",
            "Contraseña incorrecta, intente nuevamente\n",
            "Contraseña incorrecta, intente nuevamente\n",
            "Contraseña incorrecta, intente nuevamente\n",
            "Contraseña incorrecta, intente nuevamente\n"
          ]
        }
      ],
      "source": [
        "import getpass # Importa una librería getpass para ocultar la entrada de la contraseña\n",
        "\n",
        "inputPassword = getpass.getpass(\"Ingrese la contraseña: \") # Equivalente a input(), pero oculta la entrada\n",
        "\n",
        "validPassword = \"Contraseña\"\n",
        "whileCicle = True\n",
        "\n",
        "while(whileCicle):\n",
        "    if(inputPassword != validPassword):\n",
        "        print(\"Contraseña incorrecta, intente nuevamente\")\n",
        "        inputPassword = getpass.getpass(\"Ingrese la contraseña: \") # Vuelve a pedir la contraseña, recordando que la opción clásica es input(\"Ingrese la contraseña: \")\n",
        "    else:\n",
        "        print(\"Contraseña correcta, bienvenido\")\n",
        "        whileCicle = False"
      ]
    },
    {
      "cell_type": "markdown",
      "metadata": {
        "id": "bXAO6t1V1psK"
      },
      "source": [
        "# Problema 5"
      ]
    },
    {
      "cell_type": "markdown",
      "metadata": {
        "id": "nXwlwVHI11wC"
      },
      "source": [
        "Escribe un código que, utilizando un ciclo *for*, pida al usuario ingresar un número entero y muestre la tabla de multiplicar desde el 1 al 12 de dicho número."
      ]
    },
    {
      "cell_type": "code",
      "execution_count": 5,
      "metadata": {},
      "outputs": [
        {
          "name": "stdout",
          "output_type": "stream",
          "text": [
            "Para el 5 x 1 = 5\n",
            "Para el 5 x 2 = 10\n",
            "Para el 5 x 3 = 15\n",
            "Para el 5 x 4 = 20\n",
            "Para el 5 x 5 = 25\n",
            "Para el 5 x 6 = 30\n",
            "Para el 5 x 7 = 35\n",
            "Para el 5 x 8 = 40\n",
            "Para el 5 x 9 = 45\n",
            "Para el 5 x 10 = 50\n",
            "Para el 5 x 11 = 55\n",
            "Para el 5 x 12 = 60\n"
          ]
        }
      ],
      "source": [
        "try:\n",
        "    valor = int(input(\"Ingrese un número real: \"))\n",
        "\n",
        "    for i in range(1, 12+1, 1):\n",
        "        resultado = valor * i\n",
        "        print(f\"Para el {valor} x {i} = {resultado}\")\n",
        "except:\n",
        "    print(\"No ingresaste un número válido.\")\n",
        "    exit()"
      ]
    },
    {
      "cell_type": "markdown",
      "metadata": {
        "id": "UroIuMyFCKax"
      },
      "source": [
        "# Problema 6"
      ]
    },
    {
      "cell_type": "markdown",
      "metadata": {
        "id": "VoiJyh0zCMzX"
      },
      "source": [
        "1. Escribe una función que reciba dos números y retorne el producto de los números recibidos.\n",
        "1. Escribe una nueva función que tome el producto calculado en el ítem anterior y redondee el valor al entero.\n",
        "1. Pide al usuario que ingrese dos números, y utiliza ambas funciones para imprimir el valor de la multiplicación redondeado al entero."
      ]
    },
    {
      "cell_type": "code",
      "execution_count": null,
      "metadata": {},
      "outputs": [
        {
          "name": "stdout",
          "output_type": "stream",
          "text": [
            "Ingrese dos números para multiplicar y finamente, redondear en entero el resultado\n",
            "El resultado de multiplicar 2.0 x 5.0 es: 10.0, y redondeado es: 10\n"
          ]
        }
      ],
      "source": [
        "def multplyTwoNumbers(num1, num2):\n",
        "    return num1 * num2\n",
        "\n",
        "def aroundMultiplicationTable(number):\n",
        "    return round(number,0)\n",
        "\n",
        "print(\"Ingrese dos números para multiplicar y finamente, redondear en entero el resultado\")\n",
        "\n",
        "firstNumber = float(input(\"Ingrese el primer número: \"))\n",
        "secondNumber = float(input(\"Ingrese el segundo número: \"))\n",
        "\n",
        "multiplicationResult = multplyTwoNumbers(firstNumber, secondNumber)\n",
        "roundedResult = aroundMultiplicationTable(multiplicationResult)\n",
        "\n",
        "print(f\"El resultado de multiplicar {firstNumber} x {secondNumber} es: {multiplicationResult}, y redondeado es: {roundedResult}\")"
      ]
    },
    {
      "cell_type": "markdown",
      "metadata": {
        "id": "GHMOEBgQDvUw"
      },
      "source": [
        "# Problema 7"
      ]
    },
    {
      "cell_type": "markdown",
      "metadata": {
        "id": "I77oq5plD50H"
      },
      "source": [
        "La fórmula que permite convertir los grados Celsius a Fahrenheit es la siguiente:\n",
        "\n",
        "$$ F = \\frac{9}{5} C + 32$$\n",
        "\n",
        "1. Crea una función que permita realizar esta conversión.\n",
        "1. Luego, pide al usuario que ingrese la temperatura en grados Celsius y utiliza la función para calcular su equivalente en grados Fahrenheit.\n",
        "1. Imprime el resultado redondeado a la centésima."
      ]
    },
    {
      "cell_type": "code",
      "execution_count": null,
      "metadata": {},
      "outputs": [],
      "source": []
    },
    {
      "cell_type": "markdown",
      "metadata": {
        "id": "yC4Sju1KGQFn"
      },
      "source": [
        "# Problema 8"
      ]
    },
    {
      "cell_type": "markdown",
      "metadata": {
        "id": "Qw6j4zbSG0NH"
      },
      "source": [
        "1. Escribe un código que importe el módulo *random* y utiliza la función *randint()* para generar diez números aleatorios entre $1$ y $100$, y almacénalos en una lista.\n",
        "1. Imprime en pantalla la lista con los diez números generados.\n",
        "1. Utiliza la indexación en *Python* para acceder al segundo y sexto elemento de la lista. Ten en cuenta que en *Python* los índices comienzan en $0$. ¿Cómo imprimirías estos elementos?"
      ]
    },
    {
      "cell_type": "markdown",
      "metadata": {
        "id": "qlwdqEfzHrL_"
      },
      "source": [
        "# Problema 9"
      ]
    },
    {
      "cell_type": "markdown",
      "metadata": {
        "id": "iqH0iITmJH-P"
      },
      "source": [
        "El Índice de Masa Corporal (IMC) es una medida que se utiliza para evaluar si una persona se encuentra en un peso saludable con respecto a su estatura. La fórmula para calcular esta medida es:\n",
        "\n",
        "<br>\n",
        "\n",
        "$$ \\textrm{IMC} = \\frac{\\textrm{peso} \\ \\ (\\textrm{kg})}{(\\textrm{altura} \\ \\ (\\textrm{m}))^{2}}$$\n",
        "\n",
        "<br>\n",
        "\n",
        "El valor obtenido con el IMC, de acuerdo con la Organización Mundial de la Salud (OMS) indica si la persona tiene un peso bajo, normal, sobrepeso u obesidad. La clasificación es la siguiente:\n",
        "\n",
        "<br>\n",
        "\n",
        "* Bajo peso: IMC menor a $18,5 \\ \\  \\textrm{kg/m}^{2}$\n",
        "* Peso normal: IMC entre $18,5 \\ \\ \\textrm{kg/m}^{2}$ y $24,9 \\ \\ \\textrm{kg/m}^{2}$\n",
        "* Sobrepeso: IMC entre $25 \\ \\ \\textrm{kg/m}^{2}$ y $29,9 \\ \\ \\textrm{kg/m}^{2}$\n",
        "* Obesidad: IMC de $30 \\ \\ \\textrm{kg/m}^{2}$ o mayor\n",
        "\n",
        "<br>\n",
        "\n",
        "Aunque el IMC es una forma eficaz de evaluar el peso, no tiene en cuenta factores como la distribución de grasa, la masa muscular y otros rasgos de la salud física.\n",
        "\n",
        "<br>\n",
        "\n",
        "1. Considerando la información entregada, implementa un código que permita calcular mediante una función, el valor del IMC de una persona. Luego, solicita al usuario valores de masa y altura e indica, mediante el uso de condicionales, la categoría de la persona según el IMC calculado.\n",
        "1. Considera la siguiente tabla de valores, que muestra el peso y el IMC de once estudiantes. Guarda los valores del IMC en una lista e imprime en pantalla los estudiantes que, según el criterio de la OMS, están en **bajo peso**. Además, para cada IMC que esté en bajo peso, índica también el índice en la lista donde se encuentra.\n",
        "\n",
        "<p><center>\n",
        "\n",
        "| N°      | Peso $(\\textrm{kg})$ | IMC $(\\textrm{kg/m}^{2})$|\n",
        "|---------|----------------------|--------------------------|\n",
        "|$$ 1 $$  | $$29,5 $$            | $$16,43$$                |\n",
        "|$$ 2 $$  | $$37,3 $$            | $$19,31$$                |\n",
        "|$$ 3 $$  | $$38   $$            | $$10,25$$                |\n",
        "|$$ 4 $$  | $$31   $$            | $$18,63$$                |\n",
        "|$$ 5 $$  | $$36   $$            | $$17,85$$                |\n",
        "|$$ 6 $$  | $$40,4 $$            | $$19,76$$                |\n",
        "|$$ 7 $$  | $$47   $$            | $$23,64$$                |\n",
        "|$$ 8 $$  | $$43   $$            | $$21,94$$                |\n",
        "|$$ 9 $$  | $$36   $$            | $$21,3 $$                |\n",
        "|$$ 10$$  | $$40,1 $$            | $$22,67$$                |\n",
        "|$$ 11$$  | $$27   $$            | $$16,48$$                |\n",
        "\n",
        "</center></p>\n",
        "\n"
      ]
    },
    {
      "cell_type": "code",
      "execution_count": 7,
      "metadata": {},
      "outputs": [
        {
          "name": "stdout",
          "output_type": "stream",
          "text": [
            "Calculadora de IMC (Índice de Masa Corporal)\n",
            "Su Índice de Masa Corporal (IMC) es: 27.343749999999996\n",
            "Basado en la información de la OMS:\n",
            "Sobrepeso\n"
          ]
        }
      ],
      "source": [
        "def calculateIMC(weight, height):\n",
        "    return weight / (height ** 2)\n",
        "\n",
        "print(\"Calculadora de IMC (Índice de Masa Corporal)\")\n",
        "weight = float(input(\"Ingrese su peso en kilogramos (kg): \"))\n",
        "height = float(input(\"Ingrese su altura en metros (m): \"))\n",
        "\n",
        "imc = calculateIMC(weight, height)\n",
        "print(f\"Su Índice de Masa Corporal (IMC) es: {imc}\")\n",
        "print(\"Basado en la información de la OMS:\")\n",
        "if imc < 18.5:\n",
        "    print(\"Bajo peso\")\n",
        "elif imc >= 18.5 and imc < 24.9:\n",
        "    print(\"Peso normal\")\n",
        "elif imc >= 25 and imc < 29.9:\n",
        "    print(\"Sobrepeso\")\n",
        "else:\n",
        "    print(\"Obesidad\")\n"
      ]
    }
  ],
  "metadata": {
    "colab": {
      "provenance": [],
      "toc_visible": true
    },
    "kernelspec": {
      "display_name": "Python 3",
      "name": "python3"
    },
    "language_info": {
      "codemirror_mode": {
        "name": "ipython",
        "version": 3
      },
      "file_extension": ".py",
      "mimetype": "text/x-python",
      "name": "python",
      "nbconvert_exporter": "python",
      "pygments_lexer": "ipython3",
      "version": "3.13.5"
    }
  },
  "nbformat": 4,
  "nbformat_minor": 0
}
